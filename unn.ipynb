{
 "cells": [
  {
   "metadata": {
    "ExecuteTime": {
     "end_time": "2025-09-18T20:11:16.100796Z",
     "start_time": "2025-09-18T20:11:16.097531Z"
    }
   },
   "cell_type": "code",
   "source": [
    "import os\n",
    "import torch\n",
    "import torch.nn as nn\n",
    "import torch.nn.functional as F\n",
    "from torch.utils.data import DataLoader\n",
    "from torchvision import datasets, transforms, utils\n",
    "from torchvision.utils import save_image\n",
    "from torchvision.io import read_image\n",
    "from torchmetrics.image.inception import InceptionScore\n",
    "from torchmetrics.image.fid import FrechetInceptionDistance\n",
    "\n",
    "device = 'cpu'"
   ],
   "id": "70138e2a9f57c641",
   "outputs": [],
   "execution_count": 2
  },
  {
   "metadata": {
    "ExecuteTime": {
     "end_time": "2025-09-18T19:54:19.608810Z",
     "start_time": "2025-09-18T19:54:19.562943Z"
    }
   },
   "cell_type": "code",
   "source": [
    "tfm = transforms.Compose([transforms.ToTensor()])\n",
    "\n",
    "train = datasets.FashionMNIST(root='./download_data', train=True,  download=True, transform=tfm)\n",
    "test  = datasets.FashionMNIST(root='./download_data', train=False, download=True, transform=tfm)\n",
    "train_loader = DataLoader(train, batch_size=128, shuffle=True,  num_workers=2)\n",
    "test_loader  = DataLoader(test,  batch_size=128, shuffle=False, num_workers=2)"
   ],
   "id": "72082a530690680e",
   "outputs": [],
   "execution_count": 2
  },
  {
   "metadata": {
    "ExecuteTime": {
     "end_time": "2025-09-18T19:54:19.625661Z",
     "start_time": "2025-09-18T19:54:19.619334Z"
    }
   },
   "cell_type": "code",
   "source": [
    "class Vae(nn.Module):\n",
    "    def __init__(self, latentDim=16):\n",
    "        super().__init__()\n",
    "        self.enc = nn.Sequential(\n",
    "            nn.Flatten(),\n",
    "            nn.Linear(28 * 28, 256),\n",
    "            nn.ReLU(),\n",
    "            nn.Linear(256, 128),\n",
    "            nn.ReLU()\n",
    "        )\n",
    "        self.mean = nn.Linear(128, latentDim)\n",
    "        self.logVar = nn.Linear(128, latentDim)\n",
    "\n",
    "        # decoder\n",
    "        self.decodeLayers = nn.Sequential(\n",
    "            nn.Linear(latentDim, 128),\n",
    "            nn.ReLU(),\n",
    "            nn.Linear(128, 256),\n",
    "            nn.ReLU(),\n",
    "            nn.Linear(256, 28 * 28),\n",
    "            nn.Sigmoid()\n",
    "        )\n",
    "\n",
    "    def encode(self, input):\n",
    "        latent = self.enc(input)\n",
    "        mean = self.mean(latent)\n",
    "        logvar = self.logVar(latent)\n",
    "\n",
    "        return mean, logvar\n",
    "\n",
    "    def decode(self, latent):\n",
    "        result = self.decodeLayers(latent)\n",
    "        return result.view(-1, 1, 28, 28)\n",
    "\n",
    "    def reparameterize(self, mean, logvar):\n",
    "        std = torch.exp(0.5 * logvar)\n",
    "        rnd = torch.randn_like(std)\n",
    "\n",
    "        return mean + rnd * std\n",
    "\n",
    "    def forward(self, input_tensor):\n",
    "        mean, logvar = self.encode(input_tensor)\n",
    "        result = self.reparameterize(mean, logvar)\n",
    "\n",
    "        img = self.decode(result)\n",
    "        return img, mean, logvar"
   ],
   "id": "650a7dcd375507d9",
   "outputs": [],
   "execution_count": 3
  },
  {
   "metadata": {
    "ExecuteTime": {
     "end_time": "2025-09-18T19:54:19.646082Z",
     "start_time": "2025-09-18T19:54:19.634178Z"
    }
   },
   "cell_type": "code",
   "source": [
    "latent_dim, beta = 16, 4.0\n",
    "\n",
    "vae = Vae(latent_dim).to(device)\n",
    "opt = torch.optim.Adam(vae.parameters(), lr=1e-3)"
   ],
   "id": "42b0f7bbb280aa5a",
   "outputs": [],
   "execution_count": 4
  },
  {
   "metadata": {
    "ExecuteTime": {
     "end_time": "2025-09-18T19:54:19.666418Z",
     "start_time": "2025-09-18T19:54:19.663108Z"
    }
   },
   "cell_type": "code",
   "source": [
    "def elbo_loss(x, xhat, mu, logv, beta=1.0):\n",
    "    recon = F.binary_cross_entropy(xhat, x, reduction='sum') / x.size(0)\n",
    "    kld = -0.5 * torch.sum(1 + logv - mu.pow(2) - logv.exp()) / x.size(0)\n",
    "    return recon + beta * kld"
   ],
   "id": "5664526294b1f286",
   "outputs": [],
   "execution_count": 5
  },
  {
   "metadata": {
    "ExecuteTime": {
     "end_time": "2025-09-18T19:55:34.532668Z",
     "start_time": "2025-09-18T19:54:19.684987Z"
    }
   },
   "cell_type": "code",
   "source": [
    "## training\n",
    "for epoch in range(10):\n",
    "    vae.train()\n",
    "    total_loss = 0\n",
    "\n",
    "    for x, _ in train_loader:\n",
    "        x = x.to(device)\n",
    "        xhat, mean, logVar = vae(x)\n",
    "\n",
    "        loss = elbo_loss(x, xhat, mean, logVar, beta)\n",
    "\n",
    "        opt.zero_grad()\n",
    "        loss.backward()\n",
    "        opt.step()\n",
    "        total_loss  += loss.item()\n",
    "\n",
    "    print(f\"epoch {epoch}: loss={total_loss / len(train_loader):.3f}\")"
   ],
   "id": "a5ac7802b1c6588a",
   "outputs": [
    {
     "name": "stdout",
     "output_type": "stream",
     "text": [
      "epoch 0: loss=320.745\n",
      "epoch 1: loss=282.941\n",
      "epoch 2: loss=275.970\n",
      "epoch 3: loss=273.702\n",
      "epoch 4: loss=272.290\n",
      "epoch 5: loss=271.384\n",
      "epoch 6: loss=270.624\n",
      "epoch 7: loss=270.003\n",
      "epoch 8: loss=269.405\n",
      "epoch 9: loss=269.102\n"
     ]
    }
   ],
   "execution_count": 6
  },
  {
   "metadata": {
    "ExecuteTime": {
     "end_time": "2025-09-18T19:55:38.810526Z",
     "start_time": "2025-09-18T19:55:34.566299Z"
    }
   },
   "cell_type": "code",
   "source": [
    "vae.eval()\n",
    "\n",
    "with torch.no_grad():\n",
    "    x, _ = next(iter(test_loader))\n",
    "    x = x.to(device)\n",
    "    xhat, _, _ = vae(x)\n",
    "    utils.save_image(torch.cat([x[:8], xhat[:8]], dim=0),\"recons.png\", nrow=8)"
   ],
   "id": "3e63f2d2483af39d",
   "outputs": [],
   "execution_count": 7
  },
  {
   "metadata": {
    "ExecuteTime": {
     "end_time": "2025-09-18T20:01:12.557057Z",
     "start_time": "2025-09-18T20:01:12.551540Z"
    }
   },
   "cell_type": "code",
   "source": [
    "def save_results(n_ref=1000, n_gen=1000):\n",
    "    os.makedirs(\"source\", exist_ok=True)\n",
    "    os.makedirs(\"result\", exist_ok=True)\n",
    "\n",
    "    seen = 0\n",
    "    for xb, _ in DataLoader(test, batch_size=256, shuffle=False, num_workers=2):\n",
    "        for i in range(xb.size(0)):\n",
    "            if seen >= n_ref: break\n",
    "            save_image(xb[i], f\"source/{seen:05d}.png\")\n",
    "            seen += 1\n",
    "        if seen >= n_ref: break\n",
    "\n",
    "    left = n_gen\n",
    "    bs = 256\n",
    "    while left > 0:\n",
    "        k = min(bs, left)\n",
    "        z = torch.randn(k, latent_dim, device=device)\n",
    "        with torch.no_grad():\n",
    "            imgs = vae.decode(z).cpu()\n",
    "        for i in range(k):\n",
    "            idx = n_gen - left + i\n",
    "            save_image(imgs[i], f\"result/{idx:05d}.png\")\n",
    "        left -= k"
   ],
   "id": "f1d886fa6cc4d120",
   "outputs": [],
   "execution_count": 12
  },
  {
   "metadata": {
    "ExecuteTime": {
     "end_time": "2025-09-18T20:01:17.813916Z",
     "start_time": "2025-09-18T20:01:13.618145Z"
    }
   },
   "cell_type": "code",
   "source": "save_results(1000, 1000)",
   "id": "128b32bfe970d223",
   "outputs": [],
   "execution_count": 13
  }
 ],
 "metadata": {
  "kernelspec": {
   "display_name": "Python 3",
   "language": "python",
   "name": "python3"
  },
  "language_info": {
   "codemirror_mode": {
    "name": "ipython",
    "version": 2
   },
   "file_extension": ".py",
   "mimetype": "text/x-python",
   "name": "python",
   "nbconvert_exporter": "python",
   "pygments_lexer": "ipython2",
   "version": "2.7.6"
  }
 },
 "nbformat": 4,
 "nbformat_minor": 5
}
