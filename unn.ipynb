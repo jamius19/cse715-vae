{
 "cells": [
  {
   "metadata": {},
   "cell_type": "code",
   "outputs": [],
   "execution_count": null,
   "source": [
    "import torch\n",
    "import torch.nn as nn\n",
    "import torch.nn.functional as F\n",
    "from torch.utils.data import DataLoader\n",
    "from torchvision import datasets, transforms, utils\n",
    "\n",
    "device = 'cpu'"
   ],
   "id": "648c0774bed5e124"
  },
  {
   "metadata": {},
   "cell_type": "code",
   "outputs": [],
   "execution_count": null,
   "source": [
    "tfm = transforms.Compose([transforms.ToTensor()])\n",
    "\n",
    "train = datasets.FashionMNIST(root='./download_data', train=True,  download=True, transform=tfm)\n",
    "test  = datasets.FashionMNIST(root='./download_data', train=False, download=True, transform=tfm)\n",
    "train_loader = DataLoader(train, batch_size=128, shuffle=True,  num_workers=2)\n",
    "test_loader  = DataLoader(test,  batch_size=128, shuffle=False, num_workers=2)"
   ],
   "id": "12ff0e7cbc298e7a"
  },
  {
   "metadata": {},
   "cell_type": "code",
   "outputs": [],
   "execution_count": null,
   "source": [
    "class Vae(nn.Module):\n",
    "    def __init__(self, latentDim=16):\n",
    "        super().__init__()\n",
    "        self.enc = nn.Sequential(\n",
    "            nn.Flatten(),\n",
    "            nn.Linear(28 * 28, 256),\n",
    "            nn.ReLU(),\n",
    "            nn.Linear(256, 128),\n",
    "            nn.ReLU()\n",
    "        )\n",
    "        self.mean = nn.Linear(128, latentDim)\n",
    "        self.logVar = nn.Linear(128, latentDim)\n",
    "\n",
    "        # decoder\n",
    "        self.decode = nn.Sequential(\n",
    "            nn.Linear(latentDim, 128),\n",
    "            nn.ReLU(),\n",
    "            nn.Linear(128, 256),\n",
    "            nn.ReLU(),\n",
    "            nn.Linear(256, 28 * 28),\n",
    "            nn.Sigmoid()\n",
    "        )"
   ],
   "id": "c73c11b7ae5490f9"
  }
 ],
 "metadata": {
  "kernelspec": {
   "display_name": "Python 3",
   "language": "python",
   "name": "python3"
  },
  "language_info": {
   "codemirror_mode": {
    "name": "ipython",
    "version": 2
   },
   "file_extension": ".py",
   "mimetype": "text/x-python",
   "name": "python",
   "nbconvert_exporter": "python",
   "pygments_lexer": "ipython2",
   "version": "2.7.6"
  }
 },
 "nbformat": 4,
 "nbformat_minor": 5
}
