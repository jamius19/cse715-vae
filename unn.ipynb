{
 "cells": [
  {
   "cell_type": "code",
   "id": "fec30a2398cfe4b",
   "metadata": {},
   "source": [
    "import torch\n",
    "import torch.nn as nn\n",
    "import torch.nn.functional as F\n",
    "from torch.utils.data import DataLoader\n",
    "from torchvision import datasets, transforms, utils\n",
    "\n",
    "device = 'cpu'"
   ],
   "execution_count": null,
   "outputs": []
  },
  {
   "metadata": {
    "ExecuteTime": {
     "end_time": "2025-09-18T16:54:10.662678Z",
     "start_time": "2025-09-18T16:53:57.212229Z"
    }
   },
   "cell_type": "code",
   "source": [
    "tfm = transforms.Compose([transforms.ToTensor()])\n",
    "\n",
    "train = datasets.FashionMNIST(root='./download_data', train=True,  download=True, transform=tfm)\n",
    "test  = datasets.FashionMNIST(root='./download_data', train=False, download=True, transform=tfm)\n",
    "train_loader = DataLoader(train, batch_size=128, shuffle=True,  num_workers=2)\n",
    "test_loader  = DataLoader(test,  batch_size=128, shuffle=False, num_workers=2)"
   ],
   "id": "78b5737af8e5f0ec",
   "outputs": [
    {
     "name": "stderr",
     "output_type": "stream",
     "text": [
      "100.0%\n",
      "100.0%\n",
      "100.0%\n",
      "100.0%\n"
     ]
    }
   ],
   "execution_count": 3
  },
  {
   "metadata": {},
   "cell_type": "code",
   "outputs": [],
   "source": "",
   "id": "initial_id",
   "execution_count": null
  }
 ],
 "metadata": {
  "kernelspec": {
   "display_name": "Python 3",
   "language": "python",
   "name": "python3"
  },
  "language_info": {
   "codemirror_mode": {
    "name": "ipython",
    "version": 2
   },
   "file_extension": ".py",
   "mimetype": "text/x-python",
   "name": "python",
   "nbconvert_exporter": "python",
   "pygments_lexer": "ipython2",
   "version": "2.7.6"
  }
 },
 "nbformat": 4,
 "nbformat_minor": 5
}
