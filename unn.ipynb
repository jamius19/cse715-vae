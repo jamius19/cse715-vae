{
 "cells": [
  {
   "metadata": {
    "ExecuteTime": {
     "end_time": "2025-09-18T17:57:39.902849Z",
     "start_time": "2025-09-18T17:57:37.212540Z"
    }
   },
   "cell_type": "code",
   "source": [
    "import torch\n",
    "import torch.nn as nn\n",
    "import torch.nn.functional as F\n",
    "from torch.utils.data import DataLoader\n",
    "from torchvision import datasets, transforms, utils\n",
    "\n",
    "device = 'cpu'"
   ],
   "id": "70138e2a9f57c641",
   "outputs": [],
   "execution_count": 1
  },
  {
   "metadata": {
    "ExecuteTime": {
     "end_time": "2025-09-18T17:57:40.767127Z",
     "start_time": "2025-09-18T17:57:40.727288Z"
    }
   },
   "cell_type": "code",
   "source": [
    "tfm = transforms.Compose([transforms.ToTensor()])\n",
    "\n",
    "train = datasets.FashionMNIST(root='./download_data', train=True,  download=True, transform=tfm)\n",
    "test  = datasets.FashionMNIST(root='./download_data', train=False, download=True, transform=tfm)\n",
    "train_loader = DataLoader(train, batch_size=128, shuffle=True,  num_workers=2)\n",
    "test_loader  = DataLoader(test,  batch_size=128, shuffle=False, num_workers=2)"
   ],
   "id": "72082a530690680e",
   "outputs": [],
   "execution_count": 2
  },
  {
   "metadata": {
    "ExecuteTime": {
     "end_time": "2025-09-18T18:02:04.406588Z",
     "start_time": "2025-09-18T18:02:04.400276Z"
    }
   },
   "cell_type": "code",
   "source": [
    "class Vae(nn.Module):\n",
    "    def __init__(self, latentDim=16):\n",
    "        super().__init__()\n",
    "        self.enc = nn.Sequential(\n",
    "            nn.Flatten(),\n",
    "            nn.Linear(28 * 28, 256),\n",
    "            nn.ReLU(),\n",
    "            nn.Linear(256, 128),\n",
    "            nn.ReLU()\n",
    "        )\n",
    "        self.mean = nn.Linear(128, latentDim)\n",
    "        self.logVar = nn.Linear(128, latentDim)\n",
    "\n",
    "        # decoder\n",
    "        self.decodeLayers = nn.Sequential(\n",
    "            nn.Linear(latentDim, 128),\n",
    "            nn.ReLU(),\n",
    "            nn.Linear(128, 256),\n",
    "            nn.ReLU(),\n",
    "            nn.Linear(256, 28 * 28),\n",
    "            nn.Sigmoid()\n",
    "        )\n",
    "\n",
    "    def encode(self, input):\n",
    "        latent = self.enc(input)\n",
    "        mean = self.mean(latent)\n",
    "        logvar = self.logVar(latent)\n",
    "\n",
    "        return mean, logvar\n",
    "\n",
    "    def decode(self, latent):\n",
    "        result = self.decodeLayers(latent)\n",
    "        return result.view(-1, 1, 28, 28)\n",
    "\n",
    "    def reparameterize(self, mean, logvar):\n",
    "        std = torch.exp(0.5 * logvar)\n",
    "        rnd = torch.randn_like(std)\n",
    "\n",
    "        return mean + rnd * std\n",
    "\n",
    "    def forward(self, input_tensor):\n",
    "        mean, logvar = self.encode(input_tensor)\n",
    "        result = self.reparameterize(mean, logvar)\n",
    "\n",
    "        img = self.decode(result)\n",
    "        return img, mean, logvar"
   ],
   "id": "650a7dcd375507d9",
   "outputs": [],
   "execution_count": 7
  },
  {
   "metadata": {
    "ExecuteTime": {
     "end_time": "2025-09-18T18:02:06.576134Z",
     "start_time": "2025-09-18T18:02:06.569219Z"
    }
   },
   "cell_type": "code",
   "source": [
    "latent_dim, beta = 16, 4.0\n",
    "\n",
    "vae = Vae(latent_dim).to(device)\n",
    "opt = torch.optim.Adam(vae.parameters(), lr=1e-3)"
   ],
   "id": "42b0f7bbb280aa5a",
   "outputs": [],
   "execution_count": 8
  },
  {
   "metadata": {
    "ExecuteTime": {
     "end_time": "2025-09-18T18:02:07.759296Z",
     "start_time": "2025-09-18T18:02:07.755289Z"
    }
   },
   "cell_type": "code",
   "source": [
    "def elbo_loss(x, xhat, mu, logv, beta=1.0):\n",
    "    recon = F.binary_cross_entropy(xhat, x, reduction='sum') / x.size(0)\n",
    "    kld = -0.5 * torch.sum(1 + logv - mu.pow(2) - logv.exp()) / x.size(0)\n",
    "    return recon + beta * kld"
   ],
   "id": "5664526294b1f286",
   "outputs": [],
   "execution_count": 9
  },
  {
   "metadata": {
    "ExecuteTime": {
     "end_time": "2025-09-18T18:03:14.515523Z",
     "start_time": "2025-09-18T18:02:09.064681Z"
    }
   },
   "cell_type": "code",
   "source": [
    "## training\n",
    "for epoch in range(10):\n",
    "    vae.train()\n",
    "    total_loss = 0\n",
    "\n",
    "    for x, _ in train_loader:\n",
    "        x = x.to(device)\n",
    "        xhat, mean, logVar = vae(x)\n",
    "\n",
    "        loss = elbo_loss(x, xhat, mean, logVar, beta)\n",
    "\n",
    "        opt.zero_grad()\n",
    "        loss.backward()\n",
    "        opt.step()\n",
    "        total_loss  += loss.item()\n",
    "\n",
    "    print(f\"epoch {epoch}: loss={total_loss / len(train_loader):.3f}\")"
   ],
   "id": "a5ac7802b1c6588a",
   "outputs": [
    {
     "name": "stdout",
     "output_type": "stream",
     "text": [
      "epoch 0: loss=322.702\n",
      "epoch 1: loss=282.884\n",
      "epoch 2: loss=276.666\n",
      "epoch 3: loss=273.950\n",
      "epoch 4: loss=272.150\n",
      "epoch 5: loss=271.211\n",
      "epoch 6: loss=270.336\n",
      "epoch 7: loss=269.781\n",
      "epoch 8: loss=269.319\n",
      "epoch 9: loss=268.775\n"
     ]
    }
   ],
   "execution_count": 10
  }
 ],
 "metadata": {
  "kernelspec": {
   "display_name": "Python 3",
   "language": "python",
   "name": "python3"
  },
  "language_info": {
   "codemirror_mode": {
    "name": "ipython",
    "version": 2
   },
   "file_extension": ".py",
   "mimetype": "text/x-python",
   "name": "python",
   "nbconvert_exporter": "python",
   "pygments_lexer": "ipython2",
   "version": "2.7.6"
  }
 },
 "nbformat": 4,
 "nbformat_minor": 5
}
